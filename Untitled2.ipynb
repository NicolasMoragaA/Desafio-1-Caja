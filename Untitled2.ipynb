{
 "cells": [
  {
   "cell_type": "code",
   "execution_count": 22,
   "id": "cb0d3cbf",
   "metadata": {
    "scrolled": true
   },
   "outputs": [
    {
     "name": "stdout",
     "output_type": "stream",
     "text": [
      "AUC train: 0.5455\n",
      "AUC test: 0.5455\n",
      "F-1 score (test): 0.1667\n"
     ]
    }
   ],
   "source": [
    "import numpy as np\n",
    "import pandas as pd\n",
    "\n",
    "data = pd.read_csv(\"dataset_Caso_1.csv\")\n",
    "X = data[['x5', 'x6']]\n",
    "y = data['target']\n",
    "from sklearn.model_selection import train_test_split\n",
    "X_train, X_test, y_train, y_test = train_test_split(X, y, test_size=0.5, stratify=y)\n",
    "from sklearn.ensemble import GradientBoostingClassifier\n",
    "gb = GradientBoostingClassifier()\n",
    "gb.fit(X_train, y_train)\n",
    "y_train_pred = gb.predict(X_train)\n",
    "y_test_pred = gb.predict(X_test)\n",
    "from sklearn.metrics import roc_auc_score, f1_score\n",
    "\n",
    "f1_test = f1_score(y_test, y_test_pred)\n",
    "auc_train = roc_auc_score(y_train, y_train_pred)\n",
    "auc_test = roc_auc_score(y_test, y_test_pred)\n",
    "print(\"AUC train: %.4f\" % auc_train)\n",
    "print(\"AUC test: %.4f\" % auc_test)\n",
    "print(\"F-1 score (test): %.4f\" % f1_test)"
   ]
  },
  {
   "cell_type": "code",
   "execution_count": 23,
   "id": "bbd4291d",
   "metadata": {},
   "outputs": [
    {
     "name": "stdout",
     "output_type": "stream",
     "text": [
      "AUC (train): 0.801\n",
      "AUC (test): 0.757\n",
      "F1-Score (train): 0.000\n",
      "F1-Score (test): 0.000\n"
     ]
    }
   ],
   "source": [
    "from sklearn.linear_model import LogisticRegression\n",
    "model = LogisticRegression()\n",
    "model.fit(X_train, y_train)\n",
    "\n",
    "# Predecir las probabilidades de clase con los datos de entrenamiento y prueba\n",
    "y_train_proba = model.predict_proba(X_train)[:, 1]\n",
    "y_test_proba = model.predict_proba(X_test)[:, 1]\n",
    "\n",
    "# Calcular el AUC y F1-Score para los datos de entrenamiento\n",
    "auc_train = roc_auc_score(y_train, y_train_proba)\n",
    "f1_train = f1_score(y_train, model.predict(X_train))\n",
    "\n",
    "# Calcular el AUC y F1-Score para los datos de prueba\n",
    "auc_test = roc_auc_score(y_test, y_test_proba)\n",
    "f1_test = f1_score(y_test, model.predict(X_test))\n",
    "\n",
    "# Imprimir los resultados\n",
    "print(\"AUC (train): {:.3f}\".format(auc_train))\n",
    "print(\"AUC (test): {:.3f}\".format(auc_test))\n",
    "print(\"F1-Score (train): {:.3f}\".format(f1_train))\n",
    "print(\"F1-Score (test): {:.3f}\".format(f1_test))"
   ]
  }
 ],
 "metadata": {
  "kernelspec": {
   "display_name": "Python 3 (ipykernel)",
   "language": "python",
   "name": "python3"
  },
  "language_info": {
   "codemirror_mode": {
    "name": "ipython",
    "version": 3
   },
   "file_extension": ".py",
   "mimetype": "text/x-python",
   "name": "python",
   "nbconvert_exporter": "python",
   "pygments_lexer": "ipython3",
   "version": "3.9.12"
  }
 },
 "nbformat": 4,
 "nbformat_minor": 5
}
