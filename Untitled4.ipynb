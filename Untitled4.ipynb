{
 "cells": [
  {
   "cell_type": "code",
   "execution_count": 1,
   "id": "c1bb94b2",
   "metadata": {},
   "outputs": [
    {
     "data": {
      "text/html": [
       "<div>\n",
       "<style scoped>\n",
       "    .dataframe tbody tr th:only-of-type {\n",
       "        vertical-align: middle;\n",
       "    }\n",
       "\n",
       "    .dataframe tbody tr th {\n",
       "        vertical-align: top;\n",
       "    }\n",
       "\n",
       "    .dataframe thead th {\n",
       "        text-align: right;\n",
       "    }\n",
       "</style>\n",
       "<table border=\"1\" class=\"dataframe\">\n",
       "  <thead>\n",
       "    <tr style=\"text-align: right;\">\n",
       "      <th></th>\n",
       "      <th>x1</th>\n",
       "      <th>x2</th>\n",
       "      <th>x5</th>\n",
       "      <th>x6</th>\n",
       "      <th>x7</th>\n",
       "      <th>x8</th>\n",
       "      <th>target</th>\n",
       "    </tr>\n",
       "  </thead>\n",
       "  <tbody>\n",
       "    <tr>\n",
       "      <th>count</th>\n",
       "      <td>2000.000000</td>\n",
       "      <td>2000.000000</td>\n",
       "      <td>2000.00000</td>\n",
       "      <td>2000.000000</td>\n",
       "      <td>2000.000000</td>\n",
       "      <td>2000.000000</td>\n",
       "      <td>2000.000000</td>\n",
       "    </tr>\n",
       "    <tr>\n",
       "      <th>mean</th>\n",
       "      <td>101.074885</td>\n",
       "      <td>-298.282145</td>\n",
       "      <td>0.01250</td>\n",
       "      <td>0.027000</td>\n",
       "      <td>3.440500</td>\n",
       "      <td>-5.343500</td>\n",
       "      <td>0.011000</td>\n",
       "    </tr>\n",
       "    <tr>\n",
       "      <th>std</th>\n",
       "      <td>22.670474</td>\n",
       "      <td>16.596490</td>\n",
       "      <td>0.11113</td>\n",
       "      <td>0.162124</td>\n",
       "      <td>0.972591</td>\n",
       "      <td>1.570108</td>\n",
       "      <td>0.104329</td>\n",
       "    </tr>\n",
       "    <tr>\n",
       "      <th>min</th>\n",
       "      <td>50.134100</td>\n",
       "      <td>-326.000000</td>\n",
       "      <td>0.00000</td>\n",
       "      <td>0.000000</td>\n",
       "      <td>3.000000</td>\n",
       "      <td>-7.500000</td>\n",
       "      <td>0.000000</td>\n",
       "    </tr>\n",
       "    <tr>\n",
       "      <th>25%</th>\n",
       "      <td>89.501675</td>\n",
       "      <td>-308.930400</td>\n",
       "      <td>0.00000</td>\n",
       "      <td>0.000000</td>\n",
       "      <td>3.000000</td>\n",
       "      <td>-6.500000</td>\n",
       "      <td>0.000000</td>\n",
       "    </tr>\n",
       "    <tr>\n",
       "      <th>50%</th>\n",
       "      <td>105.236100</td>\n",
       "      <td>-297.825600</td>\n",
       "      <td>0.00000</td>\n",
       "      <td>0.000000</td>\n",
       "      <td>3.000000</td>\n",
       "      <td>-5.500000</td>\n",
       "      <td>0.000000</td>\n",
       "    </tr>\n",
       "    <tr>\n",
       "      <th>75%</th>\n",
       "      <td>116.023175</td>\n",
       "      <td>-288.169025</td>\n",
       "      <td>0.00000</td>\n",
       "      <td>0.000000</td>\n",
       "      <td>3.000000</td>\n",
       "      <td>-4.500000</td>\n",
       "      <td>0.000000</td>\n",
       "    </tr>\n",
       "    <tr>\n",
       "      <th>max</th>\n",
       "      <td>150.134100</td>\n",
       "      <td>-226.000000</td>\n",
       "      <td>1.00000</td>\n",
       "      <td>1.000000</td>\n",
       "      <td>8.000000</td>\n",
       "      <td>-1.500000</td>\n",
       "      <td>1.000000</td>\n",
       "    </tr>\n",
       "  </tbody>\n",
       "</table>\n",
       "</div>"
      ],
      "text/plain": [
       "                x1           x2          x5           x6           x7  \\\n",
       "count  2000.000000  2000.000000  2000.00000  2000.000000  2000.000000   \n",
       "mean    101.074885  -298.282145     0.01250     0.027000     3.440500   \n",
       "std      22.670474    16.596490     0.11113     0.162124     0.972591   \n",
       "min      50.134100  -326.000000     0.00000     0.000000     3.000000   \n",
       "25%      89.501675  -308.930400     0.00000     0.000000     3.000000   \n",
       "50%     105.236100  -297.825600     0.00000     0.000000     3.000000   \n",
       "75%     116.023175  -288.169025     0.00000     0.000000     3.000000   \n",
       "max     150.134100  -226.000000     1.00000     1.000000     8.000000   \n",
       "\n",
       "                x8       target  \n",
       "count  2000.000000  2000.000000  \n",
       "mean     -5.343500     0.011000  \n",
       "std       1.570108     0.104329  \n",
       "min      -7.500000     0.000000  \n",
       "25%      -6.500000     0.000000  \n",
       "50%      -5.500000     0.000000  \n",
       "75%      -4.500000     0.000000  \n",
       "max      -1.500000     1.000000  "
      ]
     },
     "execution_count": 1,
     "metadata": {},
     "output_type": "execute_result"
    }
   ],
   "source": [
    "import numpy as np\n",
    "import pandas as pd\n",
    "\n",
    "data = pd.read_csv(\"dataset_Caso_1.csv\")\n",
    "data.describe()"
   ]
  },
  {
   "cell_type": "code",
   "execution_count": 2,
   "id": "af3848f0",
   "metadata": {},
   "outputs": [
    {
     "data": {
      "text/html": [
       "<div>\n",
       "<style scoped>\n",
       "    .dataframe tbody tr th:only-of-type {\n",
       "        vertical-align: middle;\n",
       "    }\n",
       "\n",
       "    .dataframe tbody tr th {\n",
       "        vertical-align: top;\n",
       "    }\n",
       "\n",
       "    .dataframe thead th {\n",
       "        text-align: right;\n",
       "    }\n",
       "</style>\n",
       "<table border=\"1\" class=\"dataframe\">\n",
       "  <thead>\n",
       "    <tr style=\"text-align: right;\">\n",
       "      <th></th>\n",
       "      <th>x1</th>\n",
       "      <th>x2</th>\n",
       "      <th>x3</th>\n",
       "      <th>x4</th>\n",
       "      <th>x5</th>\n",
       "      <th>x6</th>\n",
       "      <th>x7</th>\n",
       "      <th>x8</th>\n",
       "      <th>target</th>\n",
       "    </tr>\n",
       "  </thead>\n",
       "  <tbody>\n",
       "    <tr>\n",
       "      <th>0</th>\n",
       "      <td>50.1341</td>\n",
       "      <td>-326.0000</td>\n",
       "      <td>SAT</td>\n",
       "      <td>MZBER</td>\n",
       "      <td>0</td>\n",
       "      <td>0</td>\n",
       "      <td>6</td>\n",
       "      <td>-6.5</td>\n",
       "      <td>0</td>\n",
       "    </tr>\n",
       "    <tr>\n",
       "      <th>1</th>\n",
       "      <td>50.1341</td>\n",
       "      <td>-326.0000</td>\n",
       "      <td>SAT</td>\n",
       "      <td>MZBER</td>\n",
       "      <td>0</td>\n",
       "      <td>0</td>\n",
       "      <td>6</td>\n",
       "      <td>-4.5</td>\n",
       "      <td>0</td>\n",
       "    </tr>\n",
       "    <tr>\n",
       "      <th>2</th>\n",
       "      <td>124.3276</td>\n",
       "      <td>-275.1935</td>\n",
       "      <td>LCV</td>\n",
       "      <td>MZBER</td>\n",
       "      <td>0</td>\n",
       "      <td>0</td>\n",
       "      <td>3</td>\n",
       "      <td>-2.5</td>\n",
       "      <td>0</td>\n",
       "    </tr>\n",
       "    <tr>\n",
       "      <th>3</th>\n",
       "      <td>50.1341</td>\n",
       "      <td>-326.0000</td>\n",
       "      <td>SAT</td>\n",
       "      <td>MZBER</td>\n",
       "      <td>0</td>\n",
       "      <td>0</td>\n",
       "      <td>3</td>\n",
       "      <td>-4.5</td>\n",
       "      <td>0</td>\n",
       "    </tr>\n",
       "    <tr>\n",
       "      <th>4</th>\n",
       "      <td>85.3905</td>\n",
       "      <td>-298.8632</td>\n",
       "      <td>XJB</td>\n",
       "      <td>MZBER</td>\n",
       "      <td>0</td>\n",
       "      <td>0</td>\n",
       "      <td>5</td>\n",
       "      <td>-4.5</td>\n",
       "      <td>0</td>\n",
       "    </tr>\n",
       "  </tbody>\n",
       "</table>\n",
       "</div>"
      ],
      "text/plain": [
       "         x1        x2   x3     x4  x5  x6  x7   x8  target\n",
       "0   50.1341 -326.0000  SAT  MZBER   0   0   6 -6.5       0\n",
       "1   50.1341 -326.0000  SAT  MZBER   0   0   6 -4.5       0\n",
       "2  124.3276 -275.1935  LCV  MZBER   0   0   3 -2.5       0\n",
       "3   50.1341 -326.0000  SAT  MZBER   0   0   3 -4.5       0\n",
       "4   85.3905 -298.8632  XJB  MZBER   0   0   5 -4.5       0"
      ]
     },
     "execution_count": 2,
     "metadata": {},
     "output_type": "execute_result"
    }
   ],
   "source": [
    "data.head()"
   ]
  },
  {
   "cell_type": "code",
   "execution_count": 3,
   "id": "c5286862",
   "metadata": {},
   "outputs": [
    {
     "data": {
      "text/plain": [
       "0    1978\n",
       "1      22\n",
       "Name: target, dtype: int64"
      ]
     },
     "execution_count": 3,
     "metadata": {},
     "output_type": "execute_result"
    }
   ],
   "source": [
    "data[\"target\"].value_counts()"
   ]
  },
  {
   "cell_type": "code",
   "execution_count": 4,
   "id": "f97dbf21",
   "metadata": {},
   "outputs": [
    {
     "name": "stdout",
     "output_type": "stream",
     "text": [
      "<class 'pandas.core.frame.DataFrame'>\n",
      "RangeIndex: 2000 entries, 0 to 1999\n",
      "Data columns (total 9 columns):\n",
      " #   Column  Non-Null Count  Dtype  \n",
      "---  ------  --------------  -----  \n",
      " 0   x1      2000 non-null   float64\n",
      " 1   x2      2000 non-null   float64\n",
      " 2   x3      2000 non-null   object \n",
      " 3   x4      2000 non-null   object \n",
      " 4   x5      2000 non-null   int64  \n",
      " 5   x6      2000 non-null   int64  \n",
      " 6   x7      2000 non-null   int64  \n",
      " 7   x8      2000 non-null   float64\n",
      " 8   target  2000 non-null   int64  \n",
      "dtypes: float64(3), int64(4), object(2)\n",
      "memory usage: 140.8+ KB\n"
     ]
    }
   ],
   "source": [
    "data.info()"
   ]
  },
  {
   "cell_type": "code",
   "execution_count": 5,
   "id": "03ae1849",
   "metadata": {},
   "outputs": [
    {
     "data": {
      "text/html": [
       "<div>\n",
       "<style scoped>\n",
       "    .dataframe tbody tr th:only-of-type {\n",
       "        vertical-align: middle;\n",
       "    }\n",
       "\n",
       "    .dataframe tbody tr th {\n",
       "        vertical-align: top;\n",
       "    }\n",
       "\n",
       "    .dataframe thead th {\n",
       "        text-align: right;\n",
       "    }\n",
       "</style>\n",
       "<table border=\"1\" class=\"dataframe\">\n",
       "  <thead>\n",
       "    <tr style=\"text-align: right;\">\n",
       "      <th></th>\n",
       "      <th>x1</th>\n",
       "      <th>x2</th>\n",
       "      <th>x5</th>\n",
       "      <th>x6</th>\n",
       "      <th>x7</th>\n",
       "      <th>x8</th>\n",
       "      <th>target</th>\n",
       "      <th>x3_cod0</th>\n",
       "      <th>x3_cod1</th>\n",
       "      <th>x3_cod2</th>\n",
       "      <th>x3_cod3</th>\n",
       "      <th>x4_cod0</th>\n",
       "      <th>x4_cod1</th>\n",
       "      <th>x4_cod2</th>\n",
       "      <th>x4_cod3</th>\n",
       "    </tr>\n",
       "  </thead>\n",
       "  <tbody>\n",
       "    <tr>\n",
       "      <th>0</th>\n",
       "      <td>50.1341</td>\n",
       "      <td>-326.0000</td>\n",
       "      <td>0</td>\n",
       "      <td>0</td>\n",
       "      <td>6</td>\n",
       "      <td>-6.5</td>\n",
       "      <td>0</td>\n",
       "      <td>0.0</td>\n",
       "      <td>0.0</td>\n",
       "      <td>1.0</td>\n",
       "      <td>0.0</td>\n",
       "      <td>0.0</td>\n",
       "      <td>0.0</td>\n",
       "      <td>1.0</td>\n",
       "      <td>0.0</td>\n",
       "    </tr>\n",
       "    <tr>\n",
       "      <th>1</th>\n",
       "      <td>50.1341</td>\n",
       "      <td>-326.0000</td>\n",
       "      <td>0</td>\n",
       "      <td>0</td>\n",
       "      <td>6</td>\n",
       "      <td>-4.5</td>\n",
       "      <td>0</td>\n",
       "      <td>0.0</td>\n",
       "      <td>0.0</td>\n",
       "      <td>1.0</td>\n",
       "      <td>0.0</td>\n",
       "      <td>0.0</td>\n",
       "      <td>0.0</td>\n",
       "      <td>1.0</td>\n",
       "      <td>0.0</td>\n",
       "    </tr>\n",
       "    <tr>\n",
       "      <th>2</th>\n",
       "      <td>124.3276</td>\n",
       "      <td>-275.1935</td>\n",
       "      <td>0</td>\n",
       "      <td>0</td>\n",
       "      <td>3</td>\n",
       "      <td>-2.5</td>\n",
       "      <td>0</td>\n",
       "      <td>1.0</td>\n",
       "      <td>0.0</td>\n",
       "      <td>0.0</td>\n",
       "      <td>0.0</td>\n",
       "      <td>1.0</td>\n",
       "      <td>0.0</td>\n",
       "      <td>0.0</td>\n",
       "      <td>0.0</td>\n",
       "    </tr>\n",
       "    <tr>\n",
       "      <th>3</th>\n",
       "      <td>50.1341</td>\n",
       "      <td>-326.0000</td>\n",
       "      <td>0</td>\n",
       "      <td>0</td>\n",
       "      <td>3</td>\n",
       "      <td>-4.5</td>\n",
       "      <td>0</td>\n",
       "      <td>0.0</td>\n",
       "      <td>0.0</td>\n",
       "      <td>1.0</td>\n",
       "      <td>0.0</td>\n",
       "      <td>0.0</td>\n",
       "      <td>0.0</td>\n",
       "      <td>1.0</td>\n",
       "      <td>0.0</td>\n",
       "    </tr>\n",
       "    <tr>\n",
       "      <th>4</th>\n",
       "      <td>85.3905</td>\n",
       "      <td>-298.8632</td>\n",
       "      <td>0</td>\n",
       "      <td>0</td>\n",
       "      <td>5</td>\n",
       "      <td>-4.5</td>\n",
       "      <td>0</td>\n",
       "      <td>0.0</td>\n",
       "      <td>0.0</td>\n",
       "      <td>0.0</td>\n",
       "      <td>1.0</td>\n",
       "      <td>0.0</td>\n",
       "      <td>0.0</td>\n",
       "      <td>0.0</td>\n",
       "      <td>1.0</td>\n",
       "    </tr>\n",
       "    <tr>\n",
       "      <th>...</th>\n",
       "      <td>...</td>\n",
       "      <td>...</td>\n",
       "      <td>...</td>\n",
       "      <td>...</td>\n",
       "      <td>...</td>\n",
       "      <td>...</td>\n",
       "      <td>...</td>\n",
       "      <td>...</td>\n",
       "      <td>...</td>\n",
       "      <td>...</td>\n",
       "      <td>...</td>\n",
       "      <td>...</td>\n",
       "      <td>...</td>\n",
       "      <td>...</td>\n",
       "      <td>...</td>\n",
       "    </tr>\n",
       "    <tr>\n",
       "      <th>1995</th>\n",
       "      <td>119.2548</td>\n",
       "      <td>-283.6687</td>\n",
       "      <td>0</td>\n",
       "      <td>0</td>\n",
       "      <td>3</td>\n",
       "      <td>-2.5</td>\n",
       "      <td>0</td>\n",
       "      <td>0.0</td>\n",
       "      <td>1.0</td>\n",
       "      <td>0.0</td>\n",
       "      <td>0.0</td>\n",
       "      <td>0.0</td>\n",
       "      <td>1.0</td>\n",
       "      <td>0.0</td>\n",
       "      <td>0.0</td>\n",
       "    </tr>\n",
       "    <tr>\n",
       "      <th>1996</th>\n",
       "      <td>106.2410</td>\n",
       "      <td>-294.7023</td>\n",
       "      <td>0</td>\n",
       "      <td>0</td>\n",
       "      <td>3</td>\n",
       "      <td>-2.5</td>\n",
       "      <td>0</td>\n",
       "      <td>0.0</td>\n",
       "      <td>0.0</td>\n",
       "      <td>0.0</td>\n",
       "      <td>1.0</td>\n",
       "      <td>0.0</td>\n",
       "      <td>0.0</td>\n",
       "      <td>0.0</td>\n",
       "      <td>1.0</td>\n",
       "    </tr>\n",
       "    <tr>\n",
       "      <th>1997</th>\n",
       "      <td>127.0572</td>\n",
       "      <td>-295.2308</td>\n",
       "      <td>0</td>\n",
       "      <td>0</td>\n",
       "      <td>3</td>\n",
       "      <td>-5.5</td>\n",
       "      <td>0</td>\n",
       "      <td>0.0</td>\n",
       "      <td>0.0</td>\n",
       "      <td>1.0</td>\n",
       "      <td>0.0</td>\n",
       "      <td>0.0</td>\n",
       "      <td>0.0</td>\n",
       "      <td>1.0</td>\n",
       "      <td>0.0</td>\n",
       "    </tr>\n",
       "    <tr>\n",
       "      <th>1998</th>\n",
       "      <td>114.4653</td>\n",
       "      <td>-290.3312</td>\n",
       "      <td>0</td>\n",
       "      <td>0</td>\n",
       "      <td>3</td>\n",
       "      <td>-5.5</td>\n",
       "      <td>0</td>\n",
       "      <td>1.0</td>\n",
       "      <td>0.0</td>\n",
       "      <td>0.0</td>\n",
       "      <td>0.0</td>\n",
       "      <td>1.0</td>\n",
       "      <td>0.0</td>\n",
       "      <td>0.0</td>\n",
       "      <td>0.0</td>\n",
       "    </tr>\n",
       "    <tr>\n",
       "      <th>1999</th>\n",
       "      <td>118.8841</td>\n",
       "      <td>-269.7500</td>\n",
       "      <td>0</td>\n",
       "      <td>0</td>\n",
       "      <td>3</td>\n",
       "      <td>-5.5</td>\n",
       "      <td>0</td>\n",
       "      <td>1.0</td>\n",
       "      <td>0.0</td>\n",
       "      <td>0.0</td>\n",
       "      <td>0.0</td>\n",
       "      <td>1.0</td>\n",
       "      <td>0.0</td>\n",
       "      <td>0.0</td>\n",
       "      <td>0.0</td>\n",
       "    </tr>\n",
       "  </tbody>\n",
       "</table>\n",
       "<p>2000 rows × 15 columns</p>\n",
       "</div>"
      ],
      "text/plain": [
       "            x1        x2  x5  x6  x7   x8  target  x3_cod0  x3_cod1  x3_cod2  \\\n",
       "0      50.1341 -326.0000   0   0   6 -6.5       0      0.0      0.0      1.0   \n",
       "1      50.1341 -326.0000   0   0   6 -4.5       0      0.0      0.0      1.0   \n",
       "2     124.3276 -275.1935   0   0   3 -2.5       0      1.0      0.0      0.0   \n",
       "3      50.1341 -326.0000   0   0   3 -4.5       0      0.0      0.0      1.0   \n",
       "4      85.3905 -298.8632   0   0   5 -4.5       0      0.0      0.0      0.0   \n",
       "...        ...       ...  ..  ..  ..  ...     ...      ...      ...      ...   \n",
       "1995  119.2548 -283.6687   0   0   3 -2.5       0      0.0      1.0      0.0   \n",
       "1996  106.2410 -294.7023   0   0   3 -2.5       0      0.0      0.0      0.0   \n",
       "1997  127.0572 -295.2308   0   0   3 -5.5       0      0.0      0.0      1.0   \n",
       "1998  114.4653 -290.3312   0   0   3 -5.5       0      1.0      0.0      0.0   \n",
       "1999  118.8841 -269.7500   0   0   3 -5.5       0      1.0      0.0      0.0   \n",
       "\n",
       "      x3_cod3  x4_cod0  x4_cod1  x4_cod2  x4_cod3  \n",
       "0         0.0      0.0      0.0      1.0      0.0  \n",
       "1         0.0      0.0      0.0      1.0      0.0  \n",
       "2         0.0      1.0      0.0      0.0      0.0  \n",
       "3         0.0      0.0      0.0      1.0      0.0  \n",
       "4         1.0      0.0      0.0      0.0      1.0  \n",
       "...       ...      ...      ...      ...      ...  \n",
       "1995      0.0      0.0      1.0      0.0      0.0  \n",
       "1996      1.0      0.0      0.0      0.0      1.0  \n",
       "1997      0.0      0.0      0.0      1.0      0.0  \n",
       "1998      0.0      1.0      0.0      0.0      0.0  \n",
       "1999      0.0      1.0      0.0      0.0      0.0  \n",
       "\n",
       "[2000 rows x 15 columns]"
      ]
     },
     "execution_count": 5,
     "metadata": {},
     "output_type": "execute_result"
    }
   ],
   "source": [
    "from sklearn.preprocessing import OneHotEncoder\n",
    "onehot_encoder = OneHotEncoder()\n",
    "onehot_encoded = onehot_encoder.fit_transform(data[\"x3\"].values.reshape(-1, 1)).toarray()\n",
    "data_encoded = pd.concat([data.drop('x3', axis=1), pd.DataFrame(onehot_encoded)], axis=1)\n",
    "\n",
    "\n",
    "\n",
    "onehot_encoder2 = OneHotEncoder()\n",
    "onehot_encoded2 = onehot_encoder2.fit_transform(data[\"x4\"].values.reshape(-1, 1)).toarray()\n",
    "data_encoded2 = pd.concat([data_encoded.drop('x4', axis=1), pd.DataFrame(onehot_encoded)], axis=1)\n",
    "\n",
    "\n",
    "data_encoded2.columns = [\"x1\",\"x2\",\"x5\",\"x6\",\"x7\",\"x8\",\"target\",\n",
    "                             \"x3_cod0\",\"x3_cod1\",\"x3_cod2\",\"x3_cod3\",\n",
    "                            \"x4_cod0\",\"x4_cod1\",\"x4_cod2\",\"x4_cod3\"]\n",
    "data_encoded2"
   ]
  },
  {
   "cell_type": "code",
   "execution_count": 33,
   "id": "44829fd6",
   "metadata": {},
   "outputs": [
    {
     "name": "stdout",
     "output_type": "stream",
     "text": [
      "AUC (train): 1.000\n",
      "AUC (test): 0.968\n"
     ]
    }
   ],
   "source": [
    "from sklearn.model_selection import train_test_split\n",
    "from sklearn.metrics import  roc_auc_score, roc_curve\n",
    "from sklearn.ensemble import GradientBoostingClassifier\n",
    "\n",
    "columnas = ['x1', 'x2', 'x5', 'x6', 'x7', 'x8', 'x3_cod0', 'x3_cod1',\n",
    "       'x3_cod2', 'x3_cod3', 'x4_cod0', 'x4_cod1', 'x4_cod2', 'x4_cod3']\n",
    "X = data_encoded2[columnas]\n",
    "y = data_encoded2[\"target\"]\n",
    "\n",
    "X_train, X_test, y_train, y_test = train_test_split(X, y, test_size=0.25, stratify=y)\n",
    "\n",
    "gb = GradientBoostingClassifier()\n",
    "gb.fit(X_train, y_train)\n",
    "\n",
    "y_train_pred_proba = gb.predict_proba(X_train)[:,1]\n",
    "y_test_pred_proba = gb.predict_proba(X_test)[:,1]\n"
   ]
  },
  {
   "cell_type": "code",
   "execution_count": 16,
   "id": "1ba7b7eb",
   "metadata": {},
   "outputs": [],
   "source": [
    "# Para train\n",
    "fpr_train, tpr_train, thresholds_train = roc_curve(y_train, y_train_pred_proba)\n",
    "auc_train = roc_auc_score(y_train, y_train_pred_proba)\n"
   ]
  },
  {
   "cell_type": "code",
   "execution_count": 17,
   "id": "b69ff180",
   "metadata": {},
   "outputs": [],
   "source": [
    "# Para test\n",
    "fpr_test, tpr_test, thresholds_test = roc_curve(y_test, y_test_pred_proba)\n",
    "auc_test = roc_auc_score(y_test, y_test_pred_proba)"
   ]
  },
  {
   "cell_type": "code",
   "execution_count": 18,
   "id": "f7d57aec",
   "metadata": {},
   "outputs": [],
   "source": [
    "optimal_idx_train = np.argmax(tpr_train - fpr_train)\n",
    "optimal_threshold_train = thresholds[optimal_idx_train]"
   ]
  },
  {
   "cell_type": "code",
   "execution_count": 19,
   "id": "6c02e0f4",
   "metadata": {},
   "outputs": [],
   "source": [
    "optimal_idx_test = np.argmax(tpr_test - fpr_test)\n",
    "optimal_threshold_test = thresholds[optimal_idx_test]"
   ]
  },
  {
   "cell_type": "code",
   "execution_count": 20,
   "id": "e929bc3f",
   "metadata": {},
   "outputs": [],
   "source": [
    "y_train_pred = (y_train_pred_proba >= optimal_threshold_train).astype(int)\n",
    "y_test_pred = (y_test_pred_proba >= optimal_threshold_test).astype(int)"
   ]
  },
  {
   "cell_type": "code",
   "execution_count": 22,
   "id": "a6542aef",
   "metadata": {},
   "outputs": [],
   "source": [
    "from sklearn.metrics import confusion_matrix, classification_report\n",
    "train_cm = confusion_matrix(y_train, y_train_pred)\n",
    "train_cr = classification_report(y_train, y_train_pred)\n",
    "\n",
    "test_cm = confusion_matrix(y_test, y_test_pred)\n",
    "test_cr = classification_report(y_test, y_test_pred)"
   ]
  },
  {
   "cell_type": "code",
   "execution_count": 23,
   "id": "3d8746b3",
   "metadata": {},
   "outputs": [
    {
     "data": {
      "text/plain": [
       "array([[1471,   12],\n",
       "       [   0,   17]])"
      ]
     },
     "execution_count": 23,
     "metadata": {},
     "output_type": "execute_result"
    }
   ],
   "source": [
    "train_cm"
   ]
  },
  {
   "cell_type": "code",
   "execution_count": 24,
   "id": "9ee5a7b6",
   "metadata": {},
   "outputs": [
    {
     "data": {
      "text/plain": [
       "'              precision    recall  f1-score   support\\n\\n           0       1.00      0.99      1.00      1483\\n           1       0.59      1.00      0.74        17\\n\\n    accuracy                           0.99      1500\\n   macro avg       0.79      1.00      0.87      1500\\nweighted avg       1.00      0.99      0.99      1500\\n'"
      ]
     },
     "execution_count": 24,
     "metadata": {},
     "output_type": "execute_result"
    }
   ],
   "source": [
    "train_cr"
   ]
  },
  {
   "cell_type": "code",
   "execution_count": 25,
   "id": "fddd0742",
   "metadata": {},
   "outputs": [
    {
     "data": {
      "text/plain": [
       "array([[372, 123],\n",
       "       [  1,   4]])"
      ]
     },
     "execution_count": 25,
     "metadata": {},
     "output_type": "execute_result"
    }
   ],
   "source": [
    "test_cm"
   ]
  },
  {
   "cell_type": "code",
   "execution_count": null,
   "id": "98f6fc09",
   "metadata": {},
   "outputs": [],
   "source": [
    "test_cr\n"
   ]
  },
  {
   "cell_type": "code",
   "execution_count": 30,
   "id": "08bc50be",
   "metadata": {},
   "outputs": [],
   "source": [
    "from sklearn.metrics import f1_score\n",
    "\n",
    "f1_train = f1_score(y_train, y_train_pred, average = \"weighted\")\n",
    "f1_test = f1_score(y_test, y_test_pred, average = \"weighted\")"
   ]
  },
  {
   "cell_type": "code",
   "execution_count": 31,
   "id": "8d9511e6",
   "metadata": {},
   "outputs": [
    {
     "data": {
      "text/plain": [
       "0.9930272291071796"
      ]
     },
     "execution_count": 31,
     "metadata": {},
     "output_type": "execute_result"
    }
   ],
   "source": [
    "f1_train"
   ]
  },
  {
   "cell_type": "code",
   "execution_count": 32,
   "id": "fe0610f8",
   "metadata": {},
   "outputs": [
    {
     "data": {
      "text/plain": [
       "0.8491774891774891"
      ]
     },
     "execution_count": 32,
     "metadata": {},
     "output_type": "execute_result"
    }
   ],
   "source": [
    "f1_test"
   ]
  },
  {
   "cell_type": "code",
   "execution_count": 35,
   "id": "fdd93370",
   "metadata": {},
   "outputs": [
    {
     "name": "stdout",
     "output_type": "stream",
     "text": [
      "AUC (train): 1.000\n",
      "AUC (test): 0.968\n",
      "F1 (train): 0.993\n",
      "F1 (test): 0.849\n"
     ]
    }
   ],
   "source": [
    "print(\"AUC (train): {:.3f}\".format(roc_auc_score(y_train, y_train_pred_proba)))\n",
    "print(\"AUC (test): {:.3f}\".format(roc_auc_score(y_test, y_test_pred_proba)))\n",
    "print(\"F1 (train): {:.3f}\".format(f1_train))\n",
    "print(\"F1 (test): {:.3f}\".format(f1_test))"
   ]
  }
 ],
 "metadata": {
  "kernelspec": {
   "display_name": "Python 3 (ipykernel)",
   "language": "python",
   "name": "python3"
  },
  "language_info": {
   "codemirror_mode": {
    "name": "ipython",
    "version": 3
   },
   "file_extension": ".py",
   "mimetype": "text/x-python",
   "name": "python",
   "nbconvert_exporter": "python",
   "pygments_lexer": "ipython3",
   "version": "3.9.12"
  }
 },
 "nbformat": 4,
 "nbformat_minor": 5
}
