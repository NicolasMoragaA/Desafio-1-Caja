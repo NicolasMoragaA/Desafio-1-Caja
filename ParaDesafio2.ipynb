{
 "cells": [
  {
   "cell_type": "code",
   "execution_count": 6,
   "id": "185a628f",
   "metadata": {},
   "outputs": [
    {
     "data": {
      "text/html": [
       "<div>\n",
       "<style scoped>\n",
       "    .dataframe tbody tr th:only-of-type {\n",
       "        vertical-align: middle;\n",
       "    }\n",
       "\n",
       "    .dataframe tbody tr th {\n",
       "        vertical-align: top;\n",
       "    }\n",
       "\n",
       "    .dataframe thead th {\n",
       "        text-align: right;\n",
       "    }\n",
       "</style>\n",
       "<table border=\"1\" class=\"dataframe\">\n",
       "  <thead>\n",
       "    <tr style=\"text-align: right;\">\n",
       "      <th></th>\n",
       "      <th>texto_tweet</th>\n",
       "    </tr>\n",
       "  </thead>\n",
       "  <tbody>\n",
       "    <tr>\n",
       "      <th>0</th>\n",
       "      <td>¡Atención! @ElMercurio_cl y @CajaLosAndes dest...</td>\n",
       "    </tr>\n",
       "    <tr>\n",
       "      <th>1</th>\n",
       "      <td>@CajaLosAndes el dia 9 de abril fui a  @Cinepo...</td>\n",
       "    </tr>\n",
       "    <tr>\n",
       "      <th>2</th>\n",
       "      <td>@CajaLosAndes Hola, Les envié DM para que me p...</td>\n",
       "    </tr>\n",
       "    <tr>\n",
       "      <th>3</th>\n",
       "      <td>@CajaLosAndes hola, necesito saber en que tram...</td>\n",
       "    </tr>\n",
       "    <tr>\n",
       "      <th>4</th>\n",
       "      <td>Convenio DIVBIE - Caja Los Andes\\n\\nPara el pe...</td>\n",
       "    </tr>\n",
       "    <tr>\n",
       "      <th>...</th>\n",
       "      <td>...</td>\n",
       "    </tr>\n",
       "    <tr>\n",
       "      <th>2644</th>\n",
       "      <td>@CajaLosAndes Necesito agregar mis datos banca...</td>\n",
       "    </tr>\n",
       "    <tr>\n",
       "      <th>2645</th>\n",
       "      <td>Me llamaron de @CajaLosAndes para ofrecerme un...</td>\n",
       "    </tr>\n",
       "    <tr>\n",
       "      <th>2646</th>\n",
       "      <td>@CajaLosAndes Estimados, buen día... existe al...</td>\n",
       "    </tr>\n",
       "    <tr>\n",
       "      <th>2647</th>\n",
       "      <td>@yesseni55730686 @tiomattu @CajaLosAndes @gabr...</td>\n",
       "    </tr>\n",
       "    <tr>\n",
       "      <th>2648</th>\n",
       "      <td>@CajaLosAndes @premio_avonni Estimados, buen d...</td>\n",
       "    </tr>\n",
       "  </tbody>\n",
       "</table>\n",
       "<p>2649 rows × 1 columns</p>\n",
       "</div>"
      ],
      "text/plain": [
       "                                            texto_tweet\n",
       "0     ¡Atención! @ElMercurio_cl y @CajaLosAndes dest...\n",
       "1     @CajaLosAndes el dia 9 de abril fui a  @Cinepo...\n",
       "2     @CajaLosAndes Hola, Les envié DM para que me p...\n",
       "3     @CajaLosAndes hola, necesito saber en que tram...\n",
       "4     Convenio DIVBIE - Caja Los Andes\\n\\nPara el pe...\n",
       "...                                                 ...\n",
       "2644  @CajaLosAndes Necesito agregar mis datos banca...\n",
       "2645  Me llamaron de @CajaLosAndes para ofrecerme un...\n",
       "2646  @CajaLosAndes Estimados, buen día... existe al...\n",
       "2647  @yesseni55730686 @tiomattu @CajaLosAndes @gabr...\n",
       "2648  @CajaLosAndes @premio_avonni Estimados, buen d...\n",
       "\n",
       "[2649 rows x 1 columns]"
      ]
     },
     "execution_count": 6,
     "metadata": {},
     "output_type": "execute_result"
    }
   ],
   "source": [
    "import pandas as pd\n",
    "import numpy as np\n",
    "datos = pd.read_csv(\"dataset_Caso_2.csv\")\n",
    "datos"
   ]
  },
  {
   "cell_type": "code",
   "execution_count": 9,
   "id": "5ef1d774",
   "metadata": {},
   "outputs": [
    {
     "ename": "TypeError",
     "evalue": "expected string or bytes-like object",
     "output_type": "error",
     "traceback": [
      "\u001b[0;31m---------------------------------------------------------------------------\u001b[0m",
      "\u001b[0;31mTypeError\u001b[0m                                 Traceback (most recent call last)",
      "Input \u001b[0;32mIn [9]\u001b[0m, in \u001b[0;36m<cell line: 3>\u001b[0;34m()\u001b[0m\n\u001b[1;32m      1\u001b[0m \u001b[38;5;28;01mimport\u001b[39;00m \u001b[38;5;21;01mpysentimiento\u001b[39;00m\n\u001b[1;32m      2\u001b[0m \u001b[38;5;28;01mfrom\u001b[39;00m \u001b[38;5;21;01mpysentimiento\u001b[39;00m\u001b[38;5;21;01m.\u001b[39;00m\u001b[38;5;21;01mpreprocessing\u001b[39;00m \u001b[38;5;28;01mimport\u001b[39;00m preprocess_tweet\n\u001b[0;32m----> 3\u001b[0m \u001b[43mpreprocess_tweet\u001b[49m\u001b[43m(\u001b[49m\u001b[43mdatos\u001b[49m\u001b[43m)\u001b[49m\n\u001b[1;32m      4\u001b[0m \u001b[38;5;28;01mfrom\u001b[39;00m \u001b[38;5;21;01mpysentimiento\u001b[39;00m \u001b[38;5;28;01mimport\u001b[39;00m create_analyzer\n\u001b[1;32m      5\u001b[0m analyzer \u001b[38;5;241m=\u001b[39m create_analyzer(task\u001b[38;5;241m=\u001b[39m\u001b[38;5;124m\"\u001b[39m\u001b[38;5;124msentiment\u001b[39m\u001b[38;5;124m\"\u001b[39m, lang\u001b[38;5;241m=\u001b[39m\u001b[38;5;124m\"\u001b[39m\u001b[38;5;124mes\u001b[39m\u001b[38;5;124m\"\u001b[39m)\n",
      "File \u001b[0;32m~/anaconda3/lib/python3.9/site-packages/pysentimiento/preprocessing.py:222\u001b[0m, in \u001b[0;36mpreprocess_tweet\u001b[0;34m(text, lang, user_token, url_token, preprocess_hashtags, hashtag_token, char_replace, demoji, shorten, normalize_laughter, emoji_wrapper, preprocess_handles)\u001b[0m\n\u001b[1;32m    219\u001b[0m     \u001b[38;5;28;01mreturn\u001b[39;00m text\n\u001b[1;32m    221\u001b[0m \u001b[38;5;28;01mif\u001b[39;00m preprocess_hashtags:\n\u001b[0;32m--> 222\u001b[0m     text \u001b[38;5;241m=\u001b[39m \u001b[43mhashtag_regex\u001b[49m\u001b[38;5;241;43m.\u001b[39;49m\u001b[43msub\u001b[49m\u001b[43m(\u001b[49m\n\u001b[1;32m    223\u001b[0m \u001b[43m        \u001b[49m\u001b[43mprocess_hashtags\u001b[49m\u001b[43m,\u001b[49m\n\u001b[1;32m    224\u001b[0m \u001b[43m        \u001b[49m\u001b[43mtext\u001b[49m\n\u001b[1;32m    225\u001b[0m \u001b[43m    \u001b[49m\u001b[43m)\u001b[49m\n\u001b[1;32m    227\u001b[0m \u001b[38;5;28;01mif\u001b[39;00m char_replace:\n\u001b[1;32m    228\u001b[0m     ret \u001b[38;5;241m=\u001b[39m \u001b[38;5;124m\"\u001b[39m\u001b[38;5;124m\"\u001b[39m\n",
      "\u001b[0;31mTypeError\u001b[0m: expected string or bytes-like object"
     ]
    }
   ],
   "source": [
    "import pysentimiento\n",
    "from pysentimiento.preprocessing import preprocess_tweet\n",
    "preprocess_tweet(datos)\n",
    "from pysentimiento import create_analyzer\n",
    "analyzer = create_analyzer(task=\"sentiment\", lang=\"es\")\n",
    "analyzer.predict(datos)"
   ]
  }
 ],
 "metadata": {
  "kernelspec": {
   "display_name": "Python 3 (ipykernel)",
   "language": "python",
   "name": "python3"
  },
  "language_info": {
   "codemirror_mode": {
    "name": "ipython",
    "version": 3
   },
   "file_extension": ".py",
   "mimetype": "text/x-python",
   "name": "python",
   "nbconvert_exporter": "python",
   "pygments_lexer": "ipython3",
   "version": "3.9.12"
  }
 },
 "nbformat": 4,
 "nbformat_minor": 5
}
